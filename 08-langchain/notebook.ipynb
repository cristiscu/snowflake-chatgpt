{
 "cells": [
  {
   "cell_type": "markdown",
   "id": "4803bfa4",
   "metadata": {},
   "source": [
    "Enter database credentials, to the [TPC-H Snowflake sample database](https://docs.snowflake.com/en/user-guide/sample-data-tpch)."
   ]
  },
  {
   "cell_type": "code",
   "execution_count": 1,
   "id": "8d1aaf5b",
   "metadata": {},
   "outputs": [],
   "source": [
    "import os\n",
    "\n",
    "account = \"hdb90888\"\n",
    "username = \"cristiscu\"\n",
    "password = os.environ['SNOWSQL_PWD']\n",
    "database = \"SNOWFLAKE_SAMPLE_DATA\"\n",
    "schema = \"TPCH_SF1\"\n",
    "warehouse = \"COMPUTE_WH\"\n",
    "role = \"ACCOUNTADMIN\""
   ]
  },
  {
   "cell_type": "markdown",
   "id": "f0618e0c",
   "metadata": {},
   "source": [
    "Connect to the Snowflake sample database from LangChain."
   ]
  },
  {
   "cell_type": "code",
   "execution_count": 2,
   "id": "c17a3755",
   "metadata": {},
   "outputs": [
    {
     "name": "stdout",
     "output_type": "stream",
     "text": [
      "\n",
      "CREATE TABLE customer (\n",
      "\tc_custkey DECIMAL(38, 0) NOT NULL, \n",
      "\tc_name VARCHAR(25) NOT NULL, \n",
      "\tc_address VARCHAR(40) NOT NULL, \n",
      "\tc_nationkey DECIMAL(38, 0) NOT NULL, \n",
      "\tc_phone VARCHAR(15) NOT NULL, \n",
      "\tc_acctbal DECIMAL(12, 2) NOT NULL, \n",
      "\tc_mktsegment VARCHAR(10), \n",
      "\tc_comment VARCHAR(117)\n",
      ")\n",
      "\n",
      "/*\n",
      "3 rows from customer table:\n",
      "c_custkey\tc_name\tc_address\tc_nationkey\tc_phone\tc_acctbal\tc_mktsegment\tc_comment\n",
      "60001\tCustomer#000060001\t9Ii4zQn9cX\t14\t24-678-784-9652\t9957.56\tHOUSEHOLD\tl theodolites boost slyly at the platelets: permanently ironic packages wake slyly pend\n",
      "60002\tCustomer#000060002\tThGBMjDwKzkoOxhz\t15\t25-782-500-8435\t742.46\tBUILDING\t beans. fluffily regular packages\n",
      "60003\tCustomer#000060003\tEd hbPtTXMTAsgGhCr4HuTzK,Md2\t16\t26-859-847-7640\t2526.92\tBUILDING\tfully pending deposits sleep quickly. blithely unusual accounts across the blithely bold requests ar\n",
      "*/\n",
      "\n",
      "\n",
      "CREATE TABLE lineitem (\n",
      "\tl_orderkey DECIMAL(38, 0) NOT NULL, \n",
      "\tl_partkey DECIMAL(38, 0) NOT NULL, \n",
      "\tl_suppkey DECIMAL(38, 0) NOT NULL, \n",
      "\tl_linenumber DECIMAL(38, 0) NOT NULL, \n",
      "\tl_quantity DECIMAL(12, 2) NOT NULL, \n",
      "\tl_extendedprice DECIMAL(12, 2) NOT NULL, \n",
      "\tl_discount DECIMAL(12, 2) NOT NULL, \n",
      "\tl_tax DECIMAL(12, 2) NOT NULL, \n",
      "\tl_returnflag VARCHAR(1) NOT NULL, \n",
      "\tl_linestatus VARCHAR(1) NOT NULL, \n",
      "\tl_shipdate DATE NOT NULL, \n",
      "\tl_commitdate DATE NOT NULL, \n",
      "\tl_receiptdate DATE NOT NULL, \n",
      "\tl_shipinstruct VARCHAR(25) NOT NULL, \n",
      "\tl_shipmode VARCHAR(10) NOT NULL, \n",
      "\tl_comment VARCHAR(44) NOT NULL\n",
      ")\n",
      "\n",
      "/*\n",
      "3 rows from lineitem table:\n",
      "l_orderkey\tl_partkey\tl_suppkey\tl_linenumber\tl_quantity\tl_extendedprice\tl_discount\tl_tax\tl_returnflag\tl_linestatus\tl_shipdate\tl_commitdate\tl_receiptdate\tl_shipinstruct\tl_shipmode\tl_comment\n",
      "4800001\t109033\t1544\t1\t5.00\t5210.15\t0.05\t0.08\tN\tO\t1997-05-18\t1997-05-10\t1997-06-04\tNONE\tSHIP\tuick depos\n",
      "4800002\t121176\t1177\t1\t12.00\t14366.04\t0.08\t0.07\tN\tO\t1996-05-06\t1996-05-08\t1996-05-11\tTAKE BACK RETURN\tREG AIR\tde the furiously careful theodolites. da\n",
      "4800002\t199970\t5009\t2\t15.00\t31049.55\t0.02\t0.02\tN\tO\t1996-06-23\t1996-05-27\t1996-07-05\tCOLLECT COD\tAIR\tly. blithely even foxes cajole slyly p\n",
      "*/\n",
      "\n",
      "\n",
      "CREATE TABLE nation (\n",
      "\tn_nationkey DECIMAL(38, 0) NOT NULL, \n",
      "\tn_name VARCHAR(25) NOT NULL, \n",
      "\tn_regionkey DECIMAL(38, 0) NOT NULL, \n",
      "\tn_comment VARCHAR(152)\n",
      ")\n",
      "\n",
      "/*\n",
      "3 rows from nation table:\n",
      "n_nationkey\tn_name\tn_regionkey\tn_comment\n",
      "0\tALGERIA\t0\t haggle. carefully final deposits detect slyly agai\n",
      "1\tARGENTINA\t1\tal foxes promise slyly according to the regular accounts. bold requests alon\n",
      "2\tBRAZIL\t1\ty alongside of the pending deposits. carefully special packages are about the ironic forges. slyly s\n",
      "*/\n",
      "\n",
      "\n",
      "CREATE TABLE orders (\n",
      "\to_orderkey DECIMAL(38, 0) NOT NULL, \n",
      "\to_custkey DECIMAL(38, 0) NOT NULL, \n",
      "\to_orderstatus VARCHAR(1) NOT NULL, \n",
      "\to_totalprice DECIMAL(12, 2) NOT NULL, \n",
      "\to_orderdate DATE NOT NULL, \n",
      "\to_orderpriority VARCHAR(15) NOT NULL, \n",
      "\to_clerk VARCHAR(15) NOT NULL, \n",
      "\to_shippriority DECIMAL(38, 0) NOT NULL, \n",
      "\to_comment VARCHAR(79) NOT NULL\n",
      ")\n",
      "\n",
      "/*\n",
      "3 rows from orders table:\n",
      "o_orderkey\to_custkey\to_orderstatus\to_totalprice\to_orderdate\to_orderpriority\to_clerk\to_shippriority\to_comment\n",
      "600001\t100942\tO\t80032.03\t1995-10-13\t3-MEDIUM\tClerk#000000052\t0\tts promise slyly. express packages above the carefully ironic account\n",
      "600002\t12859\tF\t145855.77\t1992-07-21\t1-URGENT\tClerk#000000904\t0\t furiously according to the quickly ironic requests. ironic accounts ha\n",
      "600003\t101318\tF\t188614.83\t1992-11-27\t4-NOT SPECIFIED\tClerk#000000283\t0\t slyly ironic packages. quickly pending foxes haggle across\n",
      "*/\n",
      "\n",
      "\n",
      "CREATE TABLE part (\n",
      "\tp_partkey DECIMAL(38, 0) NOT NULL, \n",
      "\tp_name VARCHAR(55) NOT NULL, \n",
      "\tp_mfgr VARCHAR(25) NOT NULL, \n",
      "\tp_brand VARCHAR(10) NOT NULL, \n",
      "\tp_type VARCHAR(25) NOT NULL, \n",
      "\tp_size DECIMAL(38, 0) NOT NULL, \n",
      "\tp_container VARCHAR(10) NOT NULL, \n",
      "\tp_retailprice DECIMAL(12, 2) NOT NULL, \n",
      "\tp_comment VARCHAR(23)\n",
      ")\n",
      "\n",
      "/*\n",
      "3 rows from part table:\n",
      "p_partkey\tp_name\tp_mfgr\tp_brand\tp_type\tp_size\tp_container\tp_retailprice\tp_comment\n",
      "120001\tyellow hot rose blue green\tManufacturer#1\tBrand#15\tSTANDARD ANODIZED STEEL\t38\tSM BAG\t1021.00\the unusual requests.\n",
      "120002\tyellow pale blanched gainsboro moccasin\tManufacturer#4\tBrand#45\tSTANDARD PLATED BRASS\t22\tWRAP CAN\t1022.00\te furiously even ex\n",
      "120003\tmetallic rosy gainsboro dark spring\tManufacturer#4\tBrand#45\tPROMO ANODIZED NICKEL\t48\tLG DRUM\t1023.00\tounts. c\n",
      "*/\n",
      "\n",
      "\n",
      "CREATE TABLE partsupp (\n",
      "\tps_partkey DECIMAL(38, 0) NOT NULL, \n",
      "\tps_suppkey DECIMAL(38, 0) NOT NULL, \n",
      "\tps_availqty DECIMAL(38, 0) NOT NULL, \n",
      "\tps_supplycost DECIMAL(12, 2) NOT NULL, \n",
      "\tps_comment VARCHAR(199)\n",
      ")\n",
      "\n",
      "/*\n",
      "3 rows from partsupp table:\n",
      "ps_partkey\tps_suppkey\tps_availqty\tps_supplycost\tps_comment\n",
      "180001\t2\t6212\t314.54\tfuriously ironic instructions. slyly unusual platelets cajole furiously above the slyly silent packa\n",
      "180001\t2520\t3959\t906.92\tnd the furiously unusual ideas haggle always ironic, pending pains. ideas wake final, ironic foxes? \n",
      "180001\t5038\t2591\t30.53\tly final pinto beans. sometimes regular accounts cajole slyly according to the final packages.\n",
      "*/\n",
      "\n",
      "\n",
      "CREATE TABLE region (\n",
      "\tr_regionkey DECIMAL(38, 0) NOT NULL, \n",
      "\tr_name VARCHAR(25) NOT NULL, \n",
      "\tr_comment VARCHAR(152)\n",
      ")\n",
      "\n",
      "/*\n",
      "3 rows from region table:\n",
      "r_regionkey\tr_name\tr_comment\n",
      "0\tAFRICA\tlar deposits. blithely final packages cajole. regular waters are final requests. regular accounts ar\n",
      "1\tAMERICA\ths use ironic, even requests. s\n",
      "2\tASIA\tges. thinly even pinto beans ca\n",
      "*/\n",
      "\n",
      "\n",
      "CREATE TABLE supplier (\n",
      "\ts_suppkey DECIMAL(38, 0) NOT NULL, \n",
      "\ts_name VARCHAR(25) NOT NULL, \n",
      "\ts_address VARCHAR(40) NOT NULL, \n",
      "\ts_nationkey DECIMAL(38, 0) NOT NULL, \n",
      "\ts_phone VARCHAR(15) NOT NULL, \n",
      "\ts_acctbal DECIMAL(12, 2) NOT NULL, \n",
      "\ts_comment VARCHAR(101)\n",
      ")\n",
      "\n",
      "/*\n",
      "3 rows from supplier table:\n",
      "s_suppkey\ts_name\ts_address\ts_nationkey\ts_phone\ts_acctbal\ts_comment\n",
      "1\tSupplier#000000001\t N kD4on9OM Ipw3,gf0JBoQDd7tgrzrddZ\t17\t27-918-335-1736\t5755.94\teach slyly above the careful\n",
      "2\tSupplier#000000002\t89eJ5ksX3ImxJQBvxObC,\t5\t15-679-861-2259\t4032.68\t slyly bold instructions. idle dependen\n",
      "3\tSupplier#000000003\tq1,G3Pj6OjIuUYfUoH18BFTKP5aU9bEV3\t1\t11-383-516-1199\t4192.40\tblithely silent requests after the express dependencies are sl\n",
      "*/\n"
     ]
    }
   ],
   "source": [
    "from langchain import SQLDatabase\n",
    "url = f\"snowflake://{username}:{password}@{account}/{database}/{schema}?warehouse={warehouse}&role={role}\"\n",
    "db = SQLDatabase.from_uri(url)\n",
    "print(db.table_info)"
   ]
  },
  {
   "cell_type": "markdown",
   "id": "9ead4163",
   "metadata": {},
   "source": [
    "Connect to ChatGPT (the LLM)."
   ]
  },
  {
   "cell_type": "code",
   "execution_count": 3,
   "id": "ce7f56d7",
   "metadata": {},
   "outputs": [],
   "source": [
    "from langchain_openai import OpenAI\n",
    "llm = OpenAI(openai_api_key=os.environ[\"OPENAI_API_KEY\"])"
   ]
  },
  {
   "cell_type": "markdown",
   "id": "1a4bae6f",
   "metadata": {},
   "source": [
    "Setup the LLM chain, to generate SQL queries with LangChain."
   ]
  },
  {
   "cell_type": "code",
   "execution_count": 4,
   "id": "44c8f861",
   "metadata": {},
   "outputs": [],
   "source": [
    "from langchain.chains import create_sql_query_chain\n",
    "database_chain = create_sql_query_chain(llm, db)"
   ]
  },
  {
   "cell_type": "markdown",
   "id": "1b27f2ed",
   "metadata": {},
   "source": [
    "Connect to Snowflake, with a Snowpark session."
   ]
  },
  {
   "cell_type": "code",
   "execution_count": 5,
   "id": "dd94e0fa",
   "metadata": {},
   "outputs": [],
   "source": [
    "from snowflake.snowpark import Session\n",
    "pars = {\n",
    "    \"account\": account,\n",
    "    \"user\": username,\n",
    "    \"password\": password,\n",
    "    \"database\": database,\n",
    "    \"schema\": schema,\n",
    "    \"warehouse\": warehouse,\n",
    "    \"role\": role\n",
    "}\n",
    "session = Session.builder.configs(pars).create()"
   ]
  },
  {
   "cell_type": "markdown",
   "id": "550c893b",
   "metadata": {},
   "source": [
    "Create a generic function, to generate and run query."
   ]
  },
  {
   "cell_type": "code",
   "execution_count": 6,
   "id": "182cdc80",
   "metadata": {},
   "outputs": [],
   "source": [
    "def run(prompt):\n",
    "    sql_query = database_chain.invoke({\"question\": prompt})\n",
    "    print(sql_query)\n",
    "    session.sql(sql_query).show()"
   ]
  },
  {
   "cell_type": "markdown",
   "id": "f8c6c879",
   "metadata": {},
   "source": [
    "Run a first query."
   ]
  },
  {
   "cell_type": "code",
   "execution_count": 12,
   "id": "5b9752c4",
   "metadata": {},
   "outputs": [
    {
     "name": "stdout",
     "output_type": "stream",
     "text": [
      "SELECT c_name, c_address, c_phone, c_acctbal\n",
      "FROM customer\n",
      "INNER JOIN nation ON customer.c_nationkey = nation.n_nationkey\n",
      "WHERE n_name = 'CANADA'\n",
      "ORDER BY c_acctbal DESC\n",
      "LIMIT 10\n",
      "----------------------------------------------------------------------------------------------\n",
      "|\"C_NAME\"            |\"C_ADDRESS\"                            |\"C_PHONE\"        |\"C_ACCTBAL\"  |\n",
      "----------------------------------------------------------------------------------------------\n",
      "|Customer#000112796  |hC8PTDi,13j9N                          |13-428-273-3134  |9998.32      |\n",
      "|Customer#000080736  |mqVUr4Voq5XPO2lswhTkC0sY5p7w           |13-870-874-2736  |9998.01      |\n",
      "|Customer#000064147  |TfbulTzPrCK                            |13-282-212-7949  |9997.50      |\n",
      "|Customer#000121024  |6bMiL9MlKgeeo                          |13-422-755-1125  |9996.90      |\n",
      "|Customer#000138209  |uHUzB66c4u3cj4                         |13-856-253-6147  |9996.26      |\n",
      "|Customer#000027363  |fGIwPAoPVVQewiH kjeKekVOkXfinclDjURQc  |13-427-983-8166  |9995.15      |\n",
      "|Customer#000057767  |fNL0cvmmbsqtEqDazBYI6N                 |13-792-613-3836  |9992.91      |\n",
      "|Customer#000077158  |mrdA1nJ5EiFUdu 8cvkW,W                 |13-382-725-8065  |9991.02      |\n",
      "|Customer#000036470  |txGVZa1sWzdHLVdczB826yu3xTi87o,qhjTC6  |13-909-965-3416  |9990.92      |\n",
      "|Customer#000001701  |IbyUBDvH,eRszYTbnEDHGu16B4UsJSbQaA7F   |13-397-730-2856  |9986.13      |\n",
      "----------------------------------------------------------------------------------------------\n",
      "\n"
     ]
    }
   ],
   "source": [
    "run(\"Select top 10 paying customers from Canada\")\n",
    "# run(\"Select top 10 customers from Canada with highest sum of C_ACCTBAL value\")"
   ]
  },
  {
   "cell_type": "markdown",
   "id": "452527d3",
   "metadata": {},
   "source": [
    "Run a GROUP BY query."
   ]
  },
  {
   "cell_type": "code",
   "execution_count": 9,
   "id": "7bc27a30",
   "metadata": {},
   "outputs": [
    {
     "name": "stdout",
     "output_type": "stream",
     "text": [
      "SELECT c_nationkey, COUNT(*) AS Total_Customers\n",
      "            FROM customer\n",
      "            GROUP BY c_nationkey\n",
      "-------------------------------------\n",
      "|\"C_NATIONKEY\"  |\"TOTAL_CUSTOMERS\"  |\n",
      "-------------------------------------\n",
      "|14             |5992               |\n",
      "|10             |6009               |\n",
      "|21             |6008               |\n",
      "|23             |6011               |\n",
      "|1              |5975               |\n",
      "|5              |5952               |\n",
      "|7              |5908               |\n",
      "|17             |5975               |\n",
      "|19             |6100               |\n",
      "|12             |5948               |\n",
      "-------------------------------------\n",
      "\n"
     ]
    }
   ],
   "source": [
    "run(\"Show me the total of Customers per Nation\")"
   ]
  },
  {
   "cell_type": "markdown",
   "id": "3b1afdac",
   "metadata": {},
   "source": [
    "Try to generate the complex query described in the documentation."
   ]
  },
  {
   "cell_type": "code",
   "execution_count": 10,
   "id": "a87d8900",
   "metadata": {},
   "outputs": [
    {
     "name": "stdout",
     "output_type": "stream",
     "text": [
      "SELECT l_returnflag, l_linestatus, SUM(l_extendedprice) AS extended_price_total, SUM(l_extendedprice*(1-l_discount)) AS discounted_extended_price_total, SUM(l_extendedprice*(1-l_discount)*(1+l_tax)) AS discounted_extended_price_tax_total, AVG(l_quantity) AS average_quantity, AVG(l_extendedprice) AS average_extended_price, AVG(l_discount) AS average_discount, COUNT(*) AS line_item_count\n",
      "FROM lineitem\n",
      "GROUP BY l_returnflag, l_linestatus\n",
      "ORDER BY l_returnflag ASC, l_linestatus ASC\n",
      "---------------------------------------------------------------------------------------------------------------------------------------------------------------------------------------------------------------------------------\n",
      "|\"L_RETURNFLAG\"  |\"L_LINESTATUS\"  |\"EXTENDED_PRICE_TOTAL\"  |\"DISCOUNTED_EXTENDED_PRICE_TOTAL\"  |\"DISCOUNTED_EXTENDED_PRICE_TAX_TOTAL\"  |\"AVERAGE_QUANTITY\"  |\"AVERAGE_EXTENDED_PRICE\"  |\"AVERAGE_DISCOUNT\"  |\"LINE_ITEM_COUNT\"  |\n",
      "---------------------------------------------------------------------------------------------------------------------------------------------------------------------------------------------------------------------------------\n",
      "|N               |O               |114935210409.19         |109189591897.4720                  |113561024263.013782                    |25.50201964         |38248.01560906            |0.05000026          |3004998            |\n",
      "|R               |F               |56568041380.90          |53741292684.6040                   |55889619119.831932                     |25.50579361         |38250.85462610            |0.05000941          |1478870            |\n",
      "|A               |F               |56586554400.73          |53758257134.8700                   |55909065222.827692                     |25.52200585         |38273.12973462            |0.04998530          |1478493            |\n",
      "|N               |F               |1487504710.38           |1413082168.0541                    |1469649223.194375                      |25.51647192         |38284.46776085            |0.05009343          |38854              |\n",
      "---------------------------------------------------------------------------------------------------------------------------------------------------------------------------------------------------------------------------------\n",
      "\n"
     ]
    }
   ],
   "source": [
    "run(\"\"\"Show me a query that lists totals for extended price, discounted extended price, \n",
    "    discounted extended price plus tax, average quantity, average extended price, \n",
    "    and average discount. These aggregates are grouped by RETURNFLAG and LINESTATUS, \n",
    "    and listed in ascending order of RETURNFLAG and LINESTATUS. \n",
    "    A count of the number of line items in each group is included\"\"\")"
   ]
  }
 ],
 "metadata": {
  "kernelspec": {
   "display_name": "Python 3 (ipykernel)",
   "language": "python",
   "name": "python3"
  },
  "language_info": {
   "codemirror_mode": {
    "name": "ipython",
    "version": 3
   },
   "file_extension": ".py",
   "mimetype": "text/x-python",
   "name": "python",
   "nbconvert_exporter": "python",
   "pygments_lexer": "ipython3",
   "version": "3.9.6"
  }
 },
 "nbformat": 4,
 "nbformat_minor": 5
}
